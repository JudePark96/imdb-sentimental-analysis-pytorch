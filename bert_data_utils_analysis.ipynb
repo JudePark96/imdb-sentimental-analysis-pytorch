{
 "cells": [
  {
   "cell_type": "code",
   "execution_count": 1,
   "metadata": {
    "pycharm": {
     "is_executing": false
    }
   },
   "outputs": [],
   "source": [
    "import torch\n",
    "\n",
    "from bert_data_utils import get_raw_imdb_data"
   ]
  },
  {
   "cell_type": "code",
   "execution_count": 2,
   "metadata": {
    "pycharm": {
     "is_executing": false,
     "name": "#%%\n"
    }
   },
   "outputs": [],
   "source": [
    "# 데이터 셋을 불러옴\n",
    "train_data, valid_data, test_data = get_raw_imdb_data()"
   ]
  },
  {
   "cell_type": "code",
   "execution_count": 3,
   "metadata": {
    "pycharm": {
     "is_executing": false,
     "name": "#%%\n"
    }
   },
   "outputs": [],
   "source": [
    "from transformers import BertTokenizer"
   ]
  },
  {
   "cell_type": "code",
   "execution_count": 4,
   "metadata": {
    "pycharm": {
     "is_executing": false,
     "name": "#%%\n"
    }
   },
   "outputs": [],
   "source": [
    "tokenizer = BertTokenizer.from_pretrained('bert-base-cased')"
   ]
  },
  {
   "cell_type": "code",
   "execution_count": 5,
   "metadata": {},
   "outputs": [],
   "source": [
    "def bert_tokenized_data(tokenizer, data, max_seq_len=128, pad_to_max_len=True):\n",
    "    sentences = [' '.join(s.text) for s in data]  # I am so ... good .\n",
    "    labels = [torch.tensor([1]) if l.label == 'pos' else torch.tensor([0]) for l in data]  # [1, 0, 0, ... , 1, ...]\n",
    "\n",
    "    sentences = [tokenizer.encode_plus(s, max_length=max_seq_len, pad_to_max_length=pad_to_max_len) for s\n",
    "                 in sentences]\n",
    "    input_ids = [torch.tensor(s['input_ids']) for s in sentences]\n",
    "    token_type_ids = [torch.tensor(s['token_type_ids']) for s in sentences]\n",
    "    attn_mask = [torch.tensor(s['attention_mask']) for s in sentences]\n",
    "    \n",
    "    return input_ids, \\\n",
    "           token_type_ids, \\\n",
    "           attn_mask, \\\n",
    "           labels"
   ]
  },
  {
   "cell_type": "code",
   "execution_count": 6,
   "metadata": {},
   "outputs": [],
   "source": [
    "train_input_ids, train_token_type_ids, train_attn_mask, train_labels = bert_tokenized_data(tokenizer, train_data)\n",
    "valid_input_ids, valid_token_type_ids, valid_attn_mask, valid_labels = bert_tokenized_data(tokenizer, train_data)\n",
    "test_input_ids, test_token_type_ids, test_attn_mask, test_labels = bert_tokenized_data(tokenizer, train_data)"
   ]
  },
  {
   "cell_type": "code",
   "execution_count": 7,
   "metadata": {},
   "outputs": [],
   "source": [
    "from bert_dataset import Corpus\n",
    "from torch.utils.data import Dataset, DataLoader"
   ]
  },
  {
   "cell_type": "code",
   "execution_count": 8,
   "metadata": {},
   "outputs": [],
   "source": [
    "from torch.utils.data import Dataset, DataLoader\n",
    "\n",
    "\n",
    "class Corpus(Dataset):\n",
    "    def __init__(self, input_ids:list, token_type_ids:list, attn_masks:list, labels:list):\n",
    "        super().__init__()\n",
    "        self.input_ids = input_ids\n",
    "        self.token_type_ids = token_type_ids\n",
    "        self.attn_masks = attn_masks\n",
    "        self.labels = labels\n",
    "\n",
    "    def __getitem__(self, index: int):\n",
    "        return self.input_ids[index], self.token_type_ids[index], self.attn_masks[index], self.labels[index]\n",
    "\n",
    "    def __len__(self):\n",
    "        return len(self.input_ids)"
   ]
  },
  {
   "cell_type": "code",
   "execution_count": 9,
   "metadata": {},
   "outputs": [],
   "source": [
    "train = Corpus(train_input_ids, train_token_type_ids, train_attn_mask, train_labels)\n",
    "valid = Corpus(valid_input_ids, valid_token_type_ids, valid_attn_mask, valid_labels)\n",
    "test = Corpus(test_input_ids, test_token_type_ids, test_attn_mask, test_labels)\n",
    "\n",
    "params = {'batch_size': 64,\n",
    "          'shuffle': True,\n",
    "          'num_workers': 6}\n",
    "\n",
    "train_loader = DataLoader(train, **params)\n",
    "valid_loader = DataLoader(valid, **params)\n",
    "test_loader = DataLoader(test, **params)"
   ]
  },
  {
   "cell_type": "code",
   "execution_count": 10,
   "metadata": {},
   "outputs": [],
   "source": [
    "from transformers import BertModel, BertPreTrainedModel, BertForSequenceClassification"
   ]
  },
  {
   "cell_type": "code",
   "execution_count": 11,
   "metadata": {},
   "outputs": [],
   "source": [
    "# Bert 모델 정의\n",
    "bert_config = 'bert-base-cased'\n",
    "model = BertForSequenceClassification.from_pretrained(bert_config)"
   ]
  },
  {
   "cell_type": "code",
   "execution_count": 18,
   "metadata": {},
   "outputs": [],
   "source": [
    "def get_device():\n",
    "    return 'cuda' if torch.cuda.is_available() else 'cpu'\n",
    "\n",
    "def get_num_corrects(logits, labels):\n",
    "    return (logits.max(1)[1] == labels.max(1)[0]).sum()\n",
    "\n",
    "def train(model, optim, iterator, device):\n",
    "    epoch_loss = 0\n",
    "    epoch_acc = 0\n",
    "\n",
    "    model.train()\n",
    "\n",
    "    for batch in iterator:\n",
    "        optim.zero_grad()\n",
    "        \n",
    "        input_ids, token_type_ids, attn_masks, labels = batch[0].to(device), batch[1].to(device), batch[2].to(device), batch[3].to(device)\n",
    "        loss, logits = model(input_ids=input_ids, attention_mask=attn_masks, token_type_ids=token_type_ids, labels=labels)\n",
    "        num_corrects = get_num_corrects(logits, labels)\n",
    "        acc = 100.0 * num_corrects.item() / labels.size(0)\n",
    "        epoch_loss += loss.item()\n",
    "        epoch_acc += acc\n",
    "\n",
    "        loss.backward()\n",
    "        optim.step()\n",
    "\n",
    "    return epoch_loss / len(iterator), epoch_acc / len(iterator)\n",
    "\n",
    "def evaluate(model, otpim, iterator, device):\n",
    "    epoch_loss = 0\n",
    "    epoch_acc = 0\n",
    "\n",
    "    model.eval()\n",
    "\n",
    "    with torch.no_grad():\n",
    "        for batch in iterator:\n",
    "        input_ids, token_type_ids, attn_masks, labels = batch[0].to(device), batch[1].to(device), batch[2].to(device), batch[3].to(device)\n",
    "            loss, logits = model(input_ids=input_ids, attention_mask=attn_masks, token_type_ids=token_type_ids, labels=labels)\n",
    "            num_corrects = get_num_corrects(logits, labels)\n",
    "            acc = 100.0 * num_corrects.item() / labels.size(0)\n",
    "            epoch_loss += loss.item()\n",
    "            epoch_acc += acc\n",
    "\n",
    "\n",
    "    return epoch_loss / len(iterator), epoch_acc / len(iterator)"
   ]
  },
  {
   "cell_type": "code",
   "execution_count": 19,
   "metadata": {},
   "outputs": [
    {
     "name": "stdout",
     "output_type": "stream",
     "text": [
      "tensor(35) 64\n",
      "0.546875\n",
      "torch.Size([64, 1])\n",
      "tensor(0.7217, grad_fn=<NllLossBackward>) tensor([[ 0.2341, -0.4232],\n",
      "        [ 0.1322, -0.3166],\n",
      "        [ 0.2847, -0.4331],\n",
      "        [ 0.2817, -0.6284],\n",
      "        [ 0.5515, -0.5937],\n",
      "        [ 0.0871, -0.3191],\n",
      "        [ 0.1095, -0.5467],\n",
      "        [ 0.0249, -0.3276],\n",
      "        [ 0.2986, -0.0950],\n",
      "        [ 0.4858, -0.8031],\n",
      "        [ 0.5034, -0.4779],\n",
      "        [ 0.3899, -0.6690],\n",
      "        [ 0.4067, -0.4875],\n",
      "        [ 0.2457, -0.5320],\n",
      "        [ 0.2018, -0.3728],\n",
      "        [ 0.1991, -0.2996],\n",
      "        [ 0.3407, -0.3948],\n",
      "        [ 0.2467, -0.7128],\n",
      "        [ 0.3178, -0.2568],\n",
      "        [ 0.4158, -0.2844],\n",
      "        [ 0.1323, -0.3908],\n",
      "        [ 0.3363, -0.0263],\n",
      "        [ 0.3544, -0.3458],\n",
      "        [ 0.5303, -0.5723],\n",
      "        [ 0.2716, -0.4681],\n",
      "        [ 0.3004, -0.2291],\n",
      "        [ 0.3256, -0.5786],\n",
      "        [ 0.3188, -0.7150],\n",
      "        [ 0.1128, -0.3715],\n",
      "        [ 0.2284, -0.1627],\n",
      "        [ 0.3739, -0.2684],\n",
      "        [ 0.5286, -0.5271],\n",
      "        [ 0.2384, -0.2631],\n",
      "        [ 0.3831, -0.4449],\n",
      "        [ 0.3230, -0.3912],\n",
      "        [ 0.2947, -0.3521],\n",
      "        [ 0.0045, -0.3199],\n",
      "        [ 0.3596, -0.2883],\n",
      "        [ 0.4698, -0.5805],\n",
      "        [ 0.4595, -0.3100],\n",
      "        [ 0.2616, -0.1475],\n",
      "        [ 0.0704, -0.3572],\n",
      "        [ 0.0167, -0.3986],\n",
      "        [ 0.0917, -0.5101],\n",
      "        [ 0.2862, -0.4245],\n",
      "        [ 0.5348, -0.3975],\n",
      "        [ 0.3115, -0.3400],\n",
      "        [ 0.7435, -0.2509],\n",
      "        [ 0.1231, -0.1653],\n",
      "        [ 0.4550, -0.3101],\n",
      "        [ 0.0368, -0.2376],\n",
      "        [ 0.5693, -0.4891],\n",
      "        [ 0.3136, -0.3159],\n",
      "        [ 0.4512, -0.5011],\n",
      "        [ 0.2524, -0.4775],\n",
      "        [ 0.2617, -0.4345],\n",
      "        [ 0.4357, -0.4419],\n",
      "        [ 0.4247, -0.3114],\n",
      "        [ 0.5816, -0.3778],\n",
      "        [ 0.3645, -0.5149],\n",
      "        [ 0.2770, -0.3798],\n",
      "        [ 0.2504, -0.1233],\n",
      "        [ 0.4104, -0.6329],\n",
      "        [ 0.2110, -0.4030]], grad_fn=<AddmmBackward>) tensor([[1],\n",
      "        [0],\n",
      "        [0],\n",
      "        [1],\n",
      "        [1],\n",
      "        [0],\n",
      "        [1],\n",
      "        [1],\n",
      "        [1],\n",
      "        [1],\n",
      "        [1],\n",
      "        [0],\n",
      "        [1],\n",
      "        [0],\n",
      "        [0],\n",
      "        [0],\n",
      "        [1],\n",
      "        [1],\n",
      "        [0],\n",
      "        [0],\n",
      "        [0],\n",
      "        [1],\n",
      "        [1],\n",
      "        [0],\n",
      "        [0],\n",
      "        [1],\n",
      "        [1],\n",
      "        [0],\n",
      "        [1],\n",
      "        [0],\n",
      "        [0],\n",
      "        [1],\n",
      "        [0],\n",
      "        [0],\n",
      "        [0],\n",
      "        [0],\n",
      "        [1],\n",
      "        [0],\n",
      "        [1],\n",
      "        [0],\n",
      "        [1],\n",
      "        [1],\n",
      "        [0],\n",
      "        [0],\n",
      "        [0],\n",
      "        [0],\n",
      "        [0],\n",
      "        [1],\n",
      "        [1],\n",
      "        [1],\n",
      "        [1],\n",
      "        [0],\n",
      "        [1],\n",
      "        [0],\n",
      "        [1],\n",
      "        [0],\n",
      "        [0],\n",
      "        [0],\n",
      "        [0],\n",
      "        [1],\n",
      "        [0],\n",
      "        [1],\n",
      "        [0],\n",
      "        [0]])\n"
     ]
    }
   ],
   "source": [
    "N_EPOCHS = 5\n",
    "\n",
    "best_valid_loss = float('inf')\n",
    "\n",
    "device = get_device()\n",
    "optimizer = optim.Adam(model.parameters())\n",
    "model = model.to(device)\n",
    "\n",
    "for epoch in range(N_EPOCHS):\n",
    "\n",
    "    train_loss, train_acc = train(model, optimizer, train_loader, device)\n",
    "    valid_loss, valid_acc = evaluate(model, optimizer, valid_loader, device)\n",
    "\n",
    "    if valid_loss < best_valid_loss:\n",
    "        best_valid_loss = valid_loss\n",
    "        torch.save(model.state_dict(), './bert_base_cased_sentence_classification.pt')\n",
    "\n",
    "    print(f'Train Loss: {train_loss} | Train Acc: {train_acc}%')\n",
    "    print(f'Val Loss: {valid_loss} |  Val Acc: {valid_acc}%')"
   ]
  }
 ],
 "metadata": {
  "kernelspec": {
   "display_name": "Python 3",
   "language": "python",
   "name": "python3"
  },
  "language_info": {
   "codemirror_mode": {
    "name": "ipython",
    "version": 3
   },
   "file_extension": ".py",
   "mimetype": "text/x-python",
   "name": "python",
   "nbconvert_exporter": "python",
   "pygments_lexer": "ipython3",
   "version": "3.7.6"
  },
  "pycharm": {
   "stem_cell": {
    "cell_type": "raw",
    "metadata": {
     "collapsed": false
    },
    "source": []
   }
  }
 },
 "nbformat": 4,
 "nbformat_minor": 1
}
